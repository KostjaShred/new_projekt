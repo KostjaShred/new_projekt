{
 "cells": [
  {
   "cell_type": "markdown",
   "metadata": {},
   "source": [
    "## Simulation und Modellierung WS 17/18 Uebung 07 : \n",
    "### Methode der kleinsten quadratischen Abweichungen"
   ]
  },
  {
   "cell_type": "markdown",
   "metadata": {},
   "source": [
    "### <u>Aufgabe 1</u>"
   ]
  },
  {
   "cell_type": "markdown",
   "metadata": {},
   "source": [
    "Fuer die Koordinaten $(x,y)$ eines beliebiegen Kegelschnittes in der Ebene gilt\n",
    "\n",
    "$$\n",
    "        f(x,y) = A x^2 + B xy + C y^2 + D x + E y = 1\n",
    "$$\n",
    "\n",
    "Die Datei `orbit.dat` enthaelt eine Tabelle von $x$ und $y$ Werten, welche messfehlerbehaftete Punkte eines Kegelschnittes sind. \n",
    "\n",
    "\n",
    "- Laden Sie die Daten in ein `numpy` Array und finden Sie die Koeffizienten $A,B,C,D$ und $E$, welche die Summe der quadratischen Abweichungen ueber alle Messpunkte des Ausdrucks auf der linken Seite zur Zahl `1` minimiert.\n",
    "\n",
    "Der Kegelschnitt ist eine geschlossene Kurve, wenn $B^2-4AC<0$ gilt, eine Parabel, wenn $B^2-4AC=0$ und ansonsten eine Hyperbel.\n",
    "\n",
    "- Ist dieser Kegelschnitt eine offene oder geschlossene Kurve?\n",
    "- Zeichnen Sie alle Kurven $y=y(x)$, die die Kegelschnittgleichung erfuellen zusammen mit den Datenpunkten in ein Diagram.\n",
    "\n",
    "*Hinweis* : Sie koennen entweder Kegelschnittgleichung als quadratische Gleichung explizit nach $y$ aufloesen und beide Loesungen dort plotten, wo der Imaginaerteil gleich Null (oder sehr klein) ist, oder die matplotlib Funktion `mpl.contour(X,Y,f(X,Y),[1.0])` mit `X,Y = np.meshgrid(np.linspace(-2,2),np.linspace(-2,2))`, um die Hoehenlinie $f(X,Y)=1$ darzustellen.\n",
    "\n",
    "*Zur Erinnerung* : Die Summe der quadratischen Abweichungen eines ueberbestimmten linearen Gleichungssystems\n",
    "\n",
    "$$\n",
    "    \\mathrm{A}(\\vec{x},\\vec{y}) \\vec{c} = \\vec{b}\n",
    "$$\n",
    "wird durch die Loesung des kleineren linearen Gleichungssystems\n",
    "\n",
    "$$\n",
    "    \\mathrm{A}^\\top\\mathrm{A} \\vec{c} = \\mathrm{A}^\\top\\vec{b}\n",
    "$$\n",
    "minimiert."
   ]
  },
  {
   "cell_type": "code",
   "execution_count": 2,
   "metadata": {
    "collapsed": true
   },
   "outputs": [],
   "source": [
    "from pylab import *\n",
    "import matplotlib\n",
    "%matplotlib inline\n",
    "import numpy as np"
   ]
  },
  {
   "cell_type": "code",
   "execution_count": 4,
   "metadata": {
    "collapsed": false
   },
   "outputs": [
    {
     "name": "stdout",
     "output_type": "stream",
     "text": [
      "(200, 2)\n"
     ]
    }
   ],
   "source": [
    "data=np.loadtxt('orbit.dat')\n",
    "print(data.shape)"
   ]
  },
  {
   "cell_type": "code",
   "execution_count": 48,
   "metadata": {
    "collapsed": false
   },
   "outputs": [],
   "source": [
    "x=data[:,0]\n",
    "y=data[:,1]"
   ]
  },
  {
   "cell_type": "code",
   "execution_count": 49,
   "metadata": {
    "collapsed": false
   },
   "outputs": [
    {
     "name": "stdout",
     "output_type": "stream",
     "text": [
      "0.982733298509 0.956731246416 0.958617791605 1.00987492995 1.02591761782\n"
     ]
    },
    {
     "data": {
      "text/plain": [
       "<a list of 1 text.Text objects>"
      ]
     },
     "execution_count": 49,
     "metadata": {},
     "output_type": "execute_result"
    },
    {
     "data": {
      "image/png": "iVBORw0KGgoAAAANSUhEUgAAAf8AAAFdCAYAAAANJWRbAAAABHNCSVQICAgIfAhkiAAAAAlwSFlz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\n2O4AAAAASUVORK5CYII=\n",
      "text/plain": [
       "<matplotlib.figure.Figure at 0x7fd61d57cb38>"
      ]
     },
     "metadata": {},
     "output_type": "display_data"
    }
   ],
   "source": [
    "####### Dokumentierung? -20%\n",
    "\n",
    "def Kir(x,y,A,B,C,D,E):\n",
    "    F = A*x**2 + B*x*y + C*y**2 + D*x + E*y  \n",
    "    return F\n",
    "\n",
    "Z=np.ones((len(x),5)) \n",
    "for i in range(len(x)):\n",
    "    Z[i][0]=x[i]**2\n",
    "    Z[i][1]=x[i]*y[i]\n",
    "    Z[i][2]=y[i]**2\n",
    "    Z[i][3]=x[i]\n",
    "    Z[i][4]=y[i]\n",
    "\n",
    "\n",
    "U=np.ones((len(x),1)) \n",
    "\n",
    "P=np.linalg.lstsq(Z,V)[0]  ##### V? meinst Du U? \n" -5,
    "############# soll hier c = np.linalg.solve(np.tranpose(Z).dot(Z,np.tranpose(Z).dot(b)) benutzen...\n",
    "\n",
    "print(P[0][0],P[1][0],P[2][0],P[3][0],P[4][0]) \n",
    "x,y=np.meshgrid(np.linspace(-2.5,2.5),np.linspace(-2.5,2.5))\n",
    "cp =plt.contour(x,y,Kir(x,y,P[0][0],P[1][0],P[2][0],P[3][0],P[4][0]),[1.0]) \n",
    "clabel(cp) ########### okay\n",
    "\n"
   ]
  },
  {
   "cell_type": "markdown",
   "metadata": {},
   "source": [
    "### <u>Zusatzaufgabe</u>"
   ]
  },
  {
   "cell_type": "markdown",
   "metadata": {},
   "source": [
    "- Schreiben Sie eine Funktion `polyfit(x,y,N=0)`, welche fuer `L` Datenpunkte in den Feldern `x` und `y` die Koeffizienten `c` eines Polynoms \n",
    "$$\n",
    "    y = p(x)= c_0 x^0 + c_1 x^1 + c_2 x^2 + \\dots + c_N x^N\n",
    "$$ \n",
    "`N`ten Grades findet, welches die Summe der quadratischen Abweichungen $\\sum_l (p(x_l)-y_l)^2$ minimiert.\n",
    "- Demonstrieren Sie die Funktion grafisch anhand von `L` $\\gg$ `N` Punkten eines Polynoms, welche zufaellige Abweichungen in $x$ und $y$ Richtung aufweisen. *Hinweis* : `np.random.randn(N)` generiert ein Feld mit N standard normalverteilten Zufallszahlen)\n",
    "- Finden Sie ein Polynom, welches die Daten der ersten Aufgabe gut beschreibt."
   ]
  },
  {
   "cell_type": "code",
   "execution_count": null,
   "metadata": {
    "collapsed": true
   },
   "outputs": [],
   "source": []
  }
 ],
 "metadata": {
  "anaconda-cloud": {},
  "kernelspec": {
   "display_name": "Python [default]",
   "language": "python",
   "name": "python3"
  },
  "language_info": {
   "codemirror_mode": {
    "name": "ipython",
    "version": 3
   },
   "file_extension": ".py",
   "mimetype": "text/x-python",
   "name": "python",
   "nbconvert_exporter": "python",
   "pygments_lexer": "ipython3",
   "version": "3.5.2"
  }
 },
 "nbformat": 4,
 "nbformat_minor": 1
}
