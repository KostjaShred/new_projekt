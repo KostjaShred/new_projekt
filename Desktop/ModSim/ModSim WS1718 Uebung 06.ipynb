{
 "cells": [
  {
   "cell_type": "markdown",
   "metadata": {},
   "source": [
    "# Simulation und Modellierung WS17/18 - Uebung 06"
   ]
  },
  {
   "cell_type": "markdown",
   "metadata": {},
   "source": [
    "### Aufgabe 1: Erzeugung und Multiplikation von Vektoren und Matrizen"
   ]
  },
  {
   "cell_type": "markdown",
   "metadata": {},
   "source": [
    "Die Ableitung einer Funktion $f(x)$ an einer Stelle $x_0$ kann mit Hilfe eines geeigneten Differenzenquotienten approximiert werden. Es gilt\n",
    "\n",
    "$$\n",
    "    \\lim_{h\\to 0} \\frac{f(x_0+h)-f(x_0-h)}{2h} = f'(x_0)\n",
    "$$\n",
    "\n",
    "- Definieren Sie eine `N`x`N` Matrix `D`, welche auf einen `N`x`1` Vektor `f` angewendet die symmetrische Differenz der Gitterpunkte $(Df)_i = f_{i+1}-f_{i-1}$ berechnet, wobei man periodische Randbedingungen $f_{i+N}=f_i$ annimmt. \n",
    "- berechnen Sie mit Hilfe dieser Matrix die erste und zweite Abbleitung der Funktion `f(x) = sin(x)` welche an `N` Gitterpunkten auf dem Intervall $[0,2\\pi)$ gegeben sei.\n",
    "- plotten Sie $f(x)$, $f'(x)$ und $f''(x)$ in ein Diagramm."
   ]
  },
  {
   "cell_type": "code",
   "execution_count": 4,
   "metadata": {
    "collapsed": false
   },
   "outputs": [],
   "source": [
    "#Ausgabe der Plots im Notebook und laden von numpy und pylab (matplotlib+pyplot)\n",
    "%matplotlib inline\n",
    "import numpy as np \n",
    "from pylab import *"
   ]
  },
  {
   "cell_type": "code",
   "execution_count": null,
   "metadata": {
    "collapsed": true
   },
   "outputs": [],
   "source": [
    "##### define N, D, x, h, f, df  and d2f here\n",
    "\n",
    "N = 11 #### warum N = 11?? N =1000 oder 100 sonst wird der Plot nicht glatt\n",
    "\n",
    "# Matrize D?\n",
    "\n",
    "x = linspace(0,2*pi,N) #erstelle X-Werte der Funktion\n",
    "\n",
    "f = sin(x) #erstelle Funktion f\n",
    "\n",
    "#Berechne erste Ableitung\n",
    "df = np.zeros((N))#erstelle zunächst leeren Vektor für die erste Ableitung\n",
    "\n",
    "for i in range(0,N-1):\n",
    "    df[i] = (f[i-1]-f[i+1])/(2*2*pi/N)\n",
    "    \n",
    "#Berechne zweite Ableitung \n",
    "d2f = np.zeros((N))#erstelle zunächst leeren Vektor für die zweite Ableitung\n",
    "\n",
    "for i in range(0,N-1):\n",
    "    d2f[i] = (df[i-1]-df[i+1])/(2*2*pi/N)\n",
    "\n",
    "#plotte Funktion\n",
    "plot(x,f,'b',label='$sin(x)$')\n",
    "plot(x,df,'g',label='$sin\\'(x)$')\n",
    "plot(x,d2f,'r',label=\"$sin''(x)$\")\n",
    "legend()\n",
    "show() ######## letzte Punkt sind alle drei Funktionen gleichwertig, wie kann das sein? (Randbedingung nicht kontrolliert)\n",
    "\n",
    "-10"
   ]
  },
  {
   "cell_type": "markdown",
   "metadata": {},
   "source": [
    "### Aufgabe 2 : Der getriebene, gedaempfte harm. Oszillator"
   ]
  },
  {
   "cell_type": "markdown",
   "metadata": {},
   "source": [
    "Der getriebene, gedaempfte harmonische Oszillator genuegt der Differentialgleichung\n",
    "\n",
    "$$\n",
    "    \\ddot x + 2\\gamma \\dot x + \\omega_0^2 x = A \\cos(t)\n",
    "$$\n",
    "z.B. mit $\\gamma=0.1$, $\\omega_0=1.0$ und $A=1.0$.\n",
    "- Schreiben Sie eine Funktion `limit_cycle(omega0=1.0,gamma=0.1,A=1.0,N=100)`, welche die lineare, inhomogene Differentialgleichung in `N` Zeitschritte ueber eine Periode der antreibenen Kraft diskretisiert und als lineares Gleichungssystem \n",
    "<br><br>\n",
    "$$\n",
    "    \\frac{1}{4h^2}\\textrm{D}^2\\cdot \\vec{x} + 2\\gamma \\frac{1}{2h}\\textrm{D}\\cdot \\vec{x} + \\omega_0^2 ~\\mathbf{1}\\cdot \\vec{x} = A cos(\\vec{t})\n",
    "$$\n",
    "loest. \n",
    "\n",
    "- Bestimmen und zeichnen Sie die Amplitude $B$ und die Phasenverschiebung $\\varphi$ der Loesung $x = B \\cos(t-\\varphi)$ als Funktion von $\\omega_0$. Hierfuer kann man die numpy Array Methode `x.argmax()` verwenden, welche den Index des maximalen Elements von `x` liefert.\n",
    "- Zeichnen Sie die analytischen Loesungen\n",
    "$$\n",
    "\\begin{eqnarray}\n",
    "    B &=& \\frac{A}{\\sqrt{(\\omega_0^2-1)^2+4\\gamma^2}} \\\\\n",
    "    \\tan\\varphi &=& \\frac{-2\\gamma}{\\omega_0^2-1}\n",
    "\\end{eqnarray}\n",
    "$$\n",
    "ueber die von Ihnen numerisch gefundenen Loesungen als Funktion der Eigenfrequenz $\\omega_0$ des harmonischen Oscillators. *Hinweis :* Die Methode `numpy.arctan2(y,x)` gibt den Winkel `alpha` mit `sin(alpha)=y` und `cos(alpha)=x` zurueck."
   ]
  },
  {
   "cell_type": "code",
   "execution_count": 27,
   "metadata": {
    "collapsed": true
   },
   "outputs": [],
   "source": [
    "\n",
    "import numpy as np\n",
    "def limit_cycle(omega0=1.0,gamma=0.1,A=1.0,N=100) :\n",
    "    \"\"\" \n",
    "    Bestimmt die Loesung der inhomogenen linearen Differentialgleichung\n",
    "    d^2x/dt^2 + 2 gamma dx/dt + omega0^2 x = A cos(t)\n",
    "    auf dem in N Punkte diskretisierten periodischen Zeitintervall [0,2pi)\n",
    "    \"\"\"\n",
    "    \n",
    "    #your code goes here"
   ]
  },
  {
   "cell_type": "code",
   "execution_count": 28,
   "metadata": {
    "collapsed": false
   },
   "outputs": [
    {
     "ename": "NameError",
     "evalue": "name 'Bth' is not defined",
     "output_type": "error",
     "traceback": [
      "\u001b[1;31m---------------------------------------------------------------------------\u001b[0m",
      "\u001b[1;31mNameError\u001b[0m                                 Traceback (most recent call last)",
      "\u001b[1;32m<ipython-input-28-1dc8bf33128f>\u001b[0m in \u001b[0;36m<module>\u001b[1;34m()\u001b[0m\n\u001b[0;32m     10\u001b[0m \u001b[0msubplot\u001b[0m\u001b[1;33m(\u001b[0m\u001b[1;36m2\u001b[0m\u001b[1;33m,\u001b[0m\u001b[1;36m1\u001b[0m\u001b[1;33m,\u001b[0m\u001b[1;36m1\u001b[0m\u001b[1;33m)\u001b[0m\u001b[1;33m\u001b[0m\u001b[0m\n\u001b[0;32m     11\u001b[0m \u001b[0mplot\u001b[0m\u001b[1;33m(\u001b[0m\u001b[0momega0\u001b[0m\u001b[1;33m,\u001b[0m\u001b[0mB\u001b[0m\u001b[1;33m,\u001b[0m\u001b[0mlabel\u001b[0m\u001b[1;33m=\u001b[0m\u001b[1;34m'num.'\u001b[0m\u001b[1;33m)\u001b[0m\u001b[1;33m\u001b[0m\u001b[0m\n\u001b[1;32m---> 12\u001b[1;33m \u001b[0mplot\u001b[0m\u001b[1;33m(\u001b[0m\u001b[0momega0\u001b[0m\u001b[1;33m,\u001b[0m\u001b[0mBth\u001b[0m\u001b[1;33m,\u001b[0m\u001b[1;34m'k--'\u001b[0m\u001b[1;33m,\u001b[0m\u001b[0mlabel\u001b[0m\u001b[1;33m=\u001b[0m\u001b[1;34m'Theorie'\u001b[0m\u001b[1;33m)\u001b[0m\u001b[1;33m\u001b[0m\u001b[0m\n\u001b[0m\u001b[0;32m     13\u001b[0m \u001b[0mlegend\u001b[0m\u001b[1;33m(\u001b[0m\u001b[1;33m)\u001b[0m\u001b[1;33m\u001b[0m\u001b[0m\n\u001b[0;32m     14\u001b[0m \u001b[0mxlabel\u001b[0m\u001b[1;33m(\u001b[0m\u001b[1;34m'$\\omega_0$'\u001b[0m\u001b[1;33m)\u001b[0m\u001b[1;33m\u001b[0m\u001b[0m\n",
      "\u001b[1;31mNameError\u001b[0m: name 'Bth' is not defined"
     ]
    },
    {
     "data": {
      "image/png": "[encoded data removed]",
      "text/plain": [
       "<matplotlib.figure.Figure at 0x1938f50b2b0>"
      ]
     },
     "metadata": {},
     "output_type": "display_data"
    }
   ],
   "source": [
    "L=100\n",
    "omega0 = np.linspace(0.1,4,L)\n",
    "B = np.zeros(L)\n",
    "phi = np.zeros(L)\n",
    "\n",
    "# bestimme B und phi numerisch fuer alle Werte in omega0\n",
    "# definiere die theoretischen Werte Bth und phith\n",
    "\n",
    "\n",
    "subplot(2,1,1)\n",
    "plot(omega0,B,label='num.')\n",
    "plot(omega0,Bth,'k--',label='Theorie')\n",
    "legend()\n",
    "xlabel('$\\omega_0$')\n",
    "ylabel('$B$')\n",
    "\n",
    "\n",
    "subplot(2,1,2)\n",
    "plot(omega0,phi,label='num.')\n",
    "plot(omega0,phith,'k--',label='Theorie')\n",
    "legend()\n",
    "xlabel('$\\omega_0$')\n",
    "ylabel('$\\phi$')\n",
    "show()\n",
    "\n",
    "-50"
   ]
  },
  {
   "cell_type": "code",
   "execution_count": null,
   "metadata": {
    "collapsed": true
   },
   "outputs": [],
   "source": []
  }
 ],
 "metadata": {
  "anaconda-cloud": {},
  "kernelspec": {
   "display_name": "Python [default]",
   "language": "python",
   "name": "python3"
  },
  "language_info": {
   "codemirror_mode": {
    "name": "ipython",
    "version": 3
   },
   "file_extension": ".py",
   "mimetype": "text/x-python",
   "name": "python",
   "nbconvert_exporter": "python",
   "pygments_lexer": "ipython3",
   "version": "3.5.2"
  }
 },
 "nbformat": 4,
 "nbformat_minor": 1
}
